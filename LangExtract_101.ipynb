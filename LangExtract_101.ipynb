{
 "cells": [
  {
   "cell_type": "markdown",
   "id": "f277f83d",
   "metadata": {},
   "source": [
    "#### Install the required libraries"
   ]
  },
  {
   "cell_type": "code",
   "execution_count": null,
   "id": "d42b6e22",
   "metadata": {},
   "outputs": [],
   "source": [
    "%pip install langextract"
   ]
  },
  {
   "cell_type": "markdown",
   "id": "51ea6e57",
   "metadata": {},
   "source": [
    "#### Import the libraries and set up the dotenv file with LANGEXTRACT_API_KEY, which uses the GEMINI API"
   ]
  },
  {
   "cell_type": "code",
   "execution_count": 1,
   "id": "588dfa7d",
   "metadata": {},
   "outputs": [
    {
     "data": {
      "text/plain": [
       "True"
      ]
     },
     "execution_count": 1,
     "metadata": {},
     "output_type": "execute_result"
    }
   ],
   "source": [
    "import textwrap\n",
    "import langextract as lx\n",
    "from dotenv import load_dotenv\n",
    "import os\n",
    "\n",
    "load_dotenv()"
   ]
  },
  {
   "cell_type": "markdown",
   "id": "d32f5005",
   "metadata": {},
   "source": [
    "#### Define the prompt with the extraction requirements"
   ]
  },
  {
   "cell_type": "code",
   "execution_count": null,
   "id": "6f442d6e",
   "metadata": {},
   "outputs": [],
   "source": [
    "prompt = textwrap.dedent(\"\"\"\\\n",
    "Extract the company name, specific financial metrics, and market sentiment from the text.\n",
    "    Use exact text for extractions. Do not paraphrase or overlap entities.\n",
    "    Provide meaningful attributes for each entity to add context.\n",
    "    - For companies, include the stock ticker.\n",
    "    - For financial metrics, specify the type and value.\n",
    "    - For market sentiment, classify it as 'bullish', 'bearish', or 'neutral'.\"\"\")"
   ]
  },
  {
   "cell_type": "markdown",
   "id": "8719ef02",
   "metadata": {},
   "source": [
    "#### Provide a high-quality example to guide the model"
   ]
  },
  {
   "cell_type": "code",
   "execution_count": null,
   "id": "c4349d53",
   "metadata": {},
   "outputs": [],
   "source": [
    "examples = [\n",
    "    lx.data.ExampleData(\n",
    "        text=(\n",
    "            \"AlphaTech (AT) announced a quarterly profit of $2.5 billion, exceeding analyst expectations\"\n",
    "            \" and signaling a strongly bullish trend for the sector.\"\n",
    "        ),\n",
    "        extractions=[\n",
    "            lx.data.Extraction(\n",
    "                extraction_class=\"company\",\n",
    "                extraction_text=\"AlphaTech\",\n",
    "                attributes={\"stock_ticker\": \"AT\"},\n",
    "            ),\n",
    "            lx.data.Extraction(\n",
    "                extraction_class=\"financial_metric\",\n",
    "                extraction_text=\"quarterly profit of $2.5 billion\",\n",
    "                attributes={\"metric_type\": \"profit\", \"value\": \"$2.5 billion\"}\n",
    "            ),\n",
    "            lx.data.Extraction(\n",
    "                extraction_class=\"market_sentiment\",\n",
    "                extraction_text=\"strongly bullish trend\",\n",
    "                attributes={\"sentiment\": \"bullish\"}\n",
    "            ),\n",
    "        ],\n",
    "    )\n",
    "]"
   ]
  },
  {
   "cell_type": "markdown",
   "id": "5a3f42a0",
   "metadata": {},
   "source": [
    "#### Provide an input for processing and execute the extraction process "
   ]
  },
  {
   "cell_type": "code",
   "execution_count": 5,
   "id": "ebbee73e",
   "metadata": {},
   "outputs": [
    {
     "name": "stderr",
     "output_type": "stream",
     "text": [
      "\u001b[94m\u001b[1mLangExtract\u001b[0m: model=\u001b[92mgemini-2.5-pro\u001b[0m, current=\u001b[92m161\u001b[0m chars, processed=\u001b[92m161\u001b[0m chars:  [00:07]"
     ]
    },
    {
     "name": "stdout",
     "output_type": "stream",
     "text": [
      "\u001b[92m✓\u001b[0m Extraction processing complete\n",
      "\u001b[92m✓\u001b[0m Extracted \u001b[1m4\u001b[0m entities (\u001b[1m3\u001b[0m unique types)\n",
      "  \u001b[96m•\u001b[0m Time: \u001b[1m7.62s\u001b[0m\n",
      "  \u001b[96m•\u001b[0m Speed: \u001b[1m21\u001b[0m chars/sec\n",
      "  \u001b[96m•\u001b[0m Chunks: \u001b[1m1\u001b[0m\n"
     ]
    },
    {
     "name": "stderr",
     "output_type": "stream",
     "text": [
      "\n"
     ]
    }
   ],
   "source": [
    "input_text = (\n",
    "    \"Global Dynamics Inc. (GDI) reported a staggering quarterly revenue of $15 billion, \\\n",
    "    but its stock dipped 2%, leading to a neutral but cautious market outlook.\"\n",
    ")\n",
    "result = lx.extract(\n",
    "    text_or_documents=input_text,\n",
    "    prompt_description=prompt,\n",
    "    examples=examples,\n",
    "    model_id=\"gemini-2.5-pro\",\n",
    ")"
   ]
  },
  {
   "cell_type": "markdown",
   "id": "1e74e882",
   "metadata": {},
   "source": [
    "#### Save the results in a JSONL file"
   ]
  },
  {
   "cell_type": "code",
   "execution_count": 6,
   "id": "d91a98d8",
   "metadata": {},
   "outputs": [
    {
     "name": "stderr",
     "output_type": "stream",
     "text": [
      "\u001b[94m\u001b[1mLangExtract\u001b[0m: Saving to \u001b[92mextraction_results.jsonl\u001b[0m: 1 docs [00:00, 517.30 docs/s]"
     ]
    },
    {
     "name": "stdout",
     "output_type": "stream",
     "text": [
      "\u001b[92m✓\u001b[0m Saved \u001b[1m1\u001b[0m documents to \u001b[92mextraction_results.jsonl\u001b[0m\n"
     ]
    },
    {
     "name": "stderr",
     "output_type": "stream",
     "text": [
      "\n"
     ]
    }
   ],
   "source": [
    "lx.io.save_annotated_documents([result], output_name=\"/Users/sachintripathi/Documents/Py_files/LangExtract/extraction_results.jsonl\")"
   ]
  },
  {
   "cell_type": "markdown",
   "id": "fdf89684",
   "metadata": {},
   "source": [
    "#### Visualise the results "
   ]
  },
  {
   "cell_type": "code",
   "execution_count": 7,
   "id": "49934ef0",
   "metadata": {},
   "outputs": [
    {
     "name": "stderr",
     "output_type": "stream",
     "text": [
      "\u001b[94m\u001b[1mLangExtract\u001b[0m: Loading \u001b[92mextraction_results.jsonl\u001b[0m: 100%|██████████| 1.39k/1.39k [00:00<00:00, 2.01MB/s]"
     ]
    },
    {
     "name": "stdout",
     "output_type": "stream",
     "text": [
      "\u001b[92m✓\u001b[0m Loaded \u001b[1m1\u001b[0m documents from \u001b[92mextraction_results.jsonl\u001b[0m\n"
     ]
    },
    {
     "name": "stderr",
     "output_type": "stream",
     "text": [
      "\n"
     ]
    },
    {
     "data": {
      "text/html": [
       "<style>\n",
       ".lx-highlight { position: relative; border-radius:3px; padding:1px 2px;}\n",
       ".lx-highlight .lx-tooltip {\n",
       "  visibility: hidden;\n",
       "  opacity: 0;\n",
       "  transition: opacity 0.2s ease-in-out;\n",
       "  background: #333;\n",
       "  color: #fff;\n",
       "  text-align: left;\n",
       "  border-radius: 4px;\n",
       "  padding: 6px 8px;\n",
       "  position: absolute;\n",
       "  z-index: 1000;\n",
       "  bottom: 125%;\n",
       "  left: 50%;\n",
       "  transform: translateX(-50%);\n",
       "  font-size: 12px;\n",
       "  max-width: 240px;\n",
       "  white-space: normal;\n",
       "  box-shadow: 0 2px 6px rgba(0,0,0,0.3);\n",
       "}\n",
       ".lx-highlight:hover .lx-tooltip { visibility: visible; opacity:1; }\n",
       ".lx-animated-wrapper { max-width: 100%; font-family: Arial, sans-serif; }\n",
       ".lx-controls {\n",
       "  background: #fafafa; border: 1px solid #90caf9; border-radius: 8px;\n",
       "  padding: 12px; margin-bottom: 16px;\n",
       "}\n",
       ".lx-button-row {\n",
       "  display: flex; justify-content: center; gap: 8px; margin-bottom: 12px;\n",
       "}\n",
       ".lx-control-btn {\n",
       "  background: #4285f4; color: white; border: none; border-radius: 4px;\n",
       "  padding: 8px 16px; cursor: pointer; font-size: 13px; font-weight: 500;\n",
       "  transition: background-color 0.2s;\n",
       "}\n",
       ".lx-control-btn:hover { background: #3367d6; }\n",
       ".lx-progress-container {\n",
       "  margin-bottom: 8px;\n",
       "}\n",
       ".lx-progress-slider {\n",
       "  width: 100%; margin: 0; appearance: none; height: 6px;\n",
       "  background: #ddd; border-radius: 3px; outline: none;\n",
       "}\n",
       ".lx-progress-slider::-webkit-slider-thumb {\n",
       "  appearance: none; width: 18px; height: 18px; background: #4285f4;\n",
       "  border-radius: 50%; cursor: pointer;\n",
       "}\n",
       ".lx-progress-slider::-moz-range-thumb {\n",
       "  width: 18px; height: 18px; background: #4285f4; border-radius: 50%;\n",
       "  cursor: pointer; border: none;\n",
       "}\n",
       ".lx-status-text {\n",
       "  text-align: center; font-size: 12px; color: #666; margin-top: 4px;\n",
       "}\n",
       ".lx-text-window {\n",
       "  font-family: monospace; white-space: pre-wrap; border: 1px solid #90caf9;\n",
       "  padding: 12px; max-height: 260px; overflow-y: auto; margin-bottom: 12px;\n",
       "  line-height: 1.6;\n",
       "}\n",
       ".lx-attributes-panel {\n",
       "  background: #fafafa; border: 1px solid #90caf9; border-radius: 6px;\n",
       "  padding: 8px 10px; margin-top: 8px; font-size: 13px;\n",
       "}\n",
       ".lx-current-highlight {\n",
       "  text-decoration: underline;\n",
       "  text-decoration-color: #ff4444;\n",
       "  text-decoration-thickness: 3px;\n",
       "  font-weight: bold;\n",
       "  animation: lx-pulse 1s ease-in-out;\n",
       "}\n",
       "@keyframes lx-pulse {\n",
       "  0% { text-decoration-color: #ff4444; }\n",
       "  50% { text-decoration-color: #ff0000; }\n",
       "  100% { text-decoration-color: #ff4444; }\n",
       "}\n",
       ".lx-legend { \n",
       "  font-size: 12px; margin-bottom: 8px; \n",
       "  padding-bottom: 8px; border-bottom: 1px solid #e0e0e0; \n",
       "}\n",
       ".lx-label {\n",
       "  display: inline-block;\n",
       "  padding: 2px 4px;\n",
       "  border-radius: 3px;\n",
       "  margin-right: 4px;\n",
       "  color: #000;\n",
       "}\n",
       ".lx-attr-key {\n",
       "  font-weight: 600;\n",
       "  color: #1565c0;\n",
       "  letter-spacing: 0.3px;\n",
       "}\n",
       ".lx-attr-value {\n",
       "  font-weight: 400;\n",
       "  opacity: 0.85;\n",
       "  letter-spacing: 0.2px;\n",
       "}\n",
       "\n",
       "/* Add optimizations with larger fonts and better readability for GIFs */\n",
       ".lx-gif-optimized .lx-text-window { font-size: 16px; line-height: 1.8; }\n",
       ".lx-gif-optimized .lx-attributes-panel { font-size: 15px; }\n",
       ".lx-gif-optimized .lx-current-highlight { text-decoration-thickness: 4px; }\n",
       "</style>\n",
       "<div class=\"lx-animated-wrapper lx-gif-optimized\">\n",
       "  <div class=\"lx-attributes-panel\">\n",
       "    <div class=\"lx-legend\">Highlights Legend: <span class=\"lx-label\" style=\"background-color:#D2E3FC;\">company</span> <span class=\"lx-label\" style=\"background-color:#C8E6C9;\">financial_metric</span> <span class=\"lx-label\" style=\"background-color:#FEF0C3;\">market_sentiment</span></div>\n",
       "    <div id=\"attributesContainer\"></div>\n",
       "  </div>\n",
       "  <div class=\"lx-text-window\" id=\"textWindow\">\n",
       "    <span class=\"lx-highlight lx-current-highlight\" data-idx=\"0\" style=\"background-color:#D2E3FC;\">Global Dynamics Inc.</span> (GDI) reported a staggering <span class=\"lx-highlight\" data-idx=\"1\" style=\"background-color:#C8E6C9;\">quarterly revenue of $15 billion</span>,     but its <span class=\"lx-highlight\" data-idx=\"2\" style=\"background-color:#C8E6C9;\">stock dipped 2</span>%, leading to a <span class=\"lx-highlight\" data-idx=\"3\" style=\"background-color:#FEF0C3;\">neutral but cautious market outlook</span>.\n",
       "  </div>\n",
       "  <div class=\"lx-controls\">\n",
       "    <div class=\"lx-button-row\">\n",
       "      <button class=\"lx-control-btn\" onclick=\"playPause()\">▶️ Play</button>\n",
       "      <button class=\"lx-control-btn\" onclick=\"prevExtraction()\">⏮ Previous</button>\n",
       "      <button class=\"lx-control-btn\" onclick=\"nextExtraction()\">⏭ Next</button>\n",
       "    </div>\n",
       "    <div class=\"lx-progress-container\">\n",
       "      <input type=\"range\" id=\"progressSlider\" class=\"lx-progress-slider\" \n",
       "             min=\"0\" max=\"3\" value=\"0\" \n",
       "             onchange=\"jumpToExtraction(this.value)\">\n",
       "    </div>\n",
       "    <div class=\"lx-status-text\">\n",
       "      Entity <span id=\"entityInfo\">1/4</span> | \n",
       "      Pos <span id=\"posInfo\">[0-20]</span>\n",
       "    </div>\n",
       "  </div>\n",
       "</div>\n",
       "\n",
       "<script>\n",
       "  (function() {\n",
       "    const extractions = [{\"index\": 0, \"class\": \"company\", \"text\": \"Global Dynamics Inc.\", \"color\": \"#D2E3FC\", \"startPos\": 0, \"endPos\": 20, \"beforeText\": \"\", \"extractionText\": \"Global Dynamics Inc.\", \"afterText\": \" (GDI) reported a staggering quarterly revenue of $15 billion,     but its stock dipped 2%, leading to a neutral but cautious market outlook.\", \"attributesHtml\": \"<div><strong>class:</strong> company</div><div><strong>attributes:</strong> {<span class=\\\"lx-attr-key\\\">stock_ticker</span>: <span class=\\\"lx-attr-value\\\">GDI</span>}</div>\"}, {\"index\": 1, \"class\": \"financial_metric\", \"text\": \"quarterly revenue of $15 billion\", \"color\": \"#C8E6C9\", \"startPos\": 49, \"endPos\": 81, \"beforeText\": \"Global Dynamics Inc. (GDI) reported a staggering \", \"extractionText\": \"quarterly revenue of $15 billion\", \"afterText\": \",     but its stock dipped 2%, leading to a neutral but cautious market outlook.\", \"attributesHtml\": \"<div><strong>class:</strong> financial_metric</div><div><strong>attributes:</strong> {<span class=\\\"lx-attr-key\\\">metric_type</span>: <span class=\\\"lx-attr-value\\\">revenue</span>, <span class=\\\"lx-attr-key\\\">value</span>: <span class=\\\"lx-attr-value\\\">$15 billion</span>}</div>\"}, {\"index\": 2, \"class\": \"financial_metric\", \"text\": \"stock dipped 2%\", \"color\": \"#C8E6C9\", \"startPos\": 95, \"endPos\": 109, \"beforeText\": \"Global Dynamics Inc. (GDI) reported a staggering quarterly revenue of $15 billion,     but its \", \"extractionText\": \"stock dipped 2\", \"afterText\": \"%, leading to a neutral but cautious market outlook.\", \"attributesHtml\": \"<div><strong>class:</strong> financial_metric</div><div><strong>attributes:</strong> {<span class=\\\"lx-attr-key\\\">metric_type</span>: <span class=\\\"lx-attr-value\\\">stock performance</span>, <span class=\\\"lx-attr-key\\\">value</span>: <span class=\\\"lx-attr-value\\\">dipped 2%</span>}</div>\"}, {\"index\": 3, \"class\": \"market_sentiment\", \"text\": \"neutral but cautious market outlook\", \"color\": \"#FEF0C3\", \"startPos\": 125, \"endPos\": 160, \"beforeText\": \"Global Dynamics Inc. (GDI) reported a staggering quarterly revenue of $15 billion,     but its stock dipped 2%, leading to a \", \"extractionText\": \"neutral but cautious market outlook\", \"afterText\": \".\", \"attributesHtml\": \"<div><strong>class:</strong> market_sentiment</div><div><strong>attributes:</strong> {<span class=\\\"lx-attr-key\\\">sentiment</span>: <span class=\\\"lx-attr-value\\\">neutral</span>}</div>\"}];\n",
       "    let currentIndex = 0;\n",
       "    let isPlaying = false;\n",
       "    let animationInterval = null;\n",
       "    let animationSpeed = 1.0;\n",
       "\n",
       "    function updateDisplay() {\n",
       "      const extraction = extractions[currentIndex];\n",
       "      if (!extraction) return;\n",
       "\n",
       "      document.getElementById('attributesContainer').innerHTML = extraction.attributesHtml;\n",
       "      document.getElementById('entityInfo').textContent = (currentIndex + 1) + '/' + extractions.length;\n",
       "      document.getElementById('posInfo').textContent = '[' + extraction.startPos + '-' + extraction.endPos + ']';\n",
       "      document.getElementById('progressSlider').value = currentIndex;\n",
       "\n",
       "      const playBtn = document.querySelector('.lx-control-btn');\n",
       "      if (playBtn) playBtn.textContent = isPlaying ? '⏸ Pause' : '▶️ Play';\n",
       "\n",
       "      const prevHighlight = document.querySelector('.lx-text-window .lx-current-highlight');\n",
       "      if (prevHighlight) prevHighlight.classList.remove('lx-current-highlight');\n",
       "      const currentSpan = document.querySelector('.lx-text-window span[data-idx=\"' + currentIndex + '\"]');\n",
       "      if (currentSpan) {\n",
       "        currentSpan.classList.add('lx-current-highlight');\n",
       "        currentSpan.scrollIntoView({block: 'center', behavior: 'smooth'});\n",
       "      }\n",
       "    }\n",
       "\n",
       "    function nextExtraction() {\n",
       "      currentIndex = (currentIndex + 1) % extractions.length;\n",
       "      updateDisplay();\n",
       "    }\n",
       "\n",
       "    function prevExtraction() {\n",
       "      currentIndex = (currentIndex - 1 + extractions.length) % extractions.length;\n",
       "      updateDisplay();\n",
       "    }\n",
       "\n",
       "    function jumpToExtraction(index) {\n",
       "      currentIndex = parseInt(index);\n",
       "      updateDisplay();\n",
       "    }\n",
       "\n",
       "    function playPause() {\n",
       "      if (isPlaying) {\n",
       "        clearInterval(animationInterval);\n",
       "        isPlaying = false;\n",
       "      } else {\n",
       "        animationInterval = setInterval(nextExtraction, animationSpeed * 1000);\n",
       "        isPlaying = true;\n",
       "      }\n",
       "      updateDisplay();\n",
       "    }\n",
       "\n",
       "    window.playPause = playPause;\n",
       "    window.nextExtraction = nextExtraction;\n",
       "    window.prevExtraction = prevExtraction;\n",
       "    window.jumpToExtraction = jumpToExtraction;\n",
       "\n",
       "    updateDisplay();\n",
       "  })();\n",
       "</script>"
      ],
      "text/plain": [
       "<IPython.core.display.HTML object>"
      ]
     },
     "execution_count": 7,
     "metadata": {},
     "output_type": "execute_result"
    }
   ],
   "source": [
    "html_content = lx.visualize(\"extraction_results.jsonl\")\n",
    "html_content"
   ]
  },
  {
   "cell_type": "code",
   "execution_count": null,
   "id": "c9d81658",
   "metadata": {},
   "outputs": [],
   "source": []
  },
  {
   "cell_type": "code",
   "execution_count": null,
   "id": "e7e85e19",
   "metadata": {},
   "outputs": [],
   "source": []
  }
 ],
 "metadata": {
  "kernelspec": {
   "display_name": "Python 3",
   "language": "python",
   "name": "python3"
  },
  "language_info": {
   "codemirror_mode": {
    "name": "ipython",
    "version": 3
   },
   "file_extension": ".py",
   "mimetype": "text/x-python",
   "name": "python",
   "nbconvert_exporter": "python",
   "pygments_lexer": "ipython3",
   "version": "3.11.9"
  }
 },
 "nbformat": 4,
 "nbformat_minor": 5
}
